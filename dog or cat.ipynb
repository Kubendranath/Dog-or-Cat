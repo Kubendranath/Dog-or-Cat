{
  "nbformat": 4,
  "nbformat_minor": 0,
  "metadata": {
    "colab": {
      "provenance": []
    },
    "kernelspec": {
      "name": "python3",
      "display_name": "Python 3"
    }
  },
  "cells": [
    {
      "cell_type": "markdown",
      "metadata": {
        "id": "3DR-eO17geWu"
      },
      "source": [
        "# Convolutional Neural Network"
      ]
    },
    {
      "cell_type": "markdown",
      "metadata": {
        "id": "EMefrVPCg-60"
      },
      "source": [
        "### Importing the libraries"
      ]
    },
    {
      "cell_type": "code",
      "source": [
        "import tensorflow as tf\n",
        "from keras.preprocessing.image import ImageDataGenerator"
      ],
      "metadata": {
        "id": "sC9KA1QctcV2"
      },
      "execution_count": null,
      "outputs": []
    },
    {
      "cell_type": "code",
      "source": [
        "from google.colab import drive"
      ],
      "metadata": {
        "id": "6j9yUGC7DfE7"
      },
      "execution_count": null,
      "outputs": []
    },
    {
      "cell_type": "code",
      "source": [
        "tf.__version__\n",
        "train_path = \"/content/drive/MyDrive/ml/Machine Learning-A-Z-Codes-Datasets/Machine Learning A-Z (Codes and Datasets)/Part 8 - Deep Learning/Section 40 - Convolutional Neural Networks (CNN)/Python/dataset/training_set\"\n",
        "test_path = \"/content/drive/MyDrive/ml/Machine Learning-A-Z-Codes-Datasets/Machine Learning A-Z (Codes and Datasets)/Part 8 - Deep Learning/Section 40 - Convolutional Neural Networks (CNN)/Python/dataset/test_set\"\n",
        "testing1 = \"/content/drive/MyDrive/ml/Machine Learning-A-Z-Codes-Datasets/Machine Learning A-Z (Codes and Datasets)/Part 8 - Deep Learning/Section 40 - Convolutional Neural Networks (CNN)/Python/dataset/single_prediction/cat_or_dog_1.jpg\""
      ],
      "metadata": {
        "id": "uMy2WdfltqUA"
      },
      "execution_count": null,
      "outputs": []
    },
    {
      "cell_type": "code",
      "source": [
        "from google.colab import drive\n",
        "drive.mount('/content/drive')"
      ],
      "metadata": {
        "colab": {
          "base_uri": "https://localhost:8080/"
        },
        "id": "2sjcU7t5D9Mi",
        "outputId": "d035f413-f9ce-49e2-b8a4-f4e4423b5d8d"
      },
      "execution_count": null,
      "outputs": [
        {
          "output_type": "stream",
          "name": "stdout",
          "text": [
            "Drive already mounted at /content/drive; to attempt to forcibly remount, call drive.mount(\"/content/drive\", force_remount=True).\n"
          ]
        }
      ]
    },
    {
      "cell_type": "markdown",
      "metadata": {
        "id": "oxQxCBWyoGPE"
      },
      "source": [
        "## Part 1 - Data Preprocessing"
      ]
    },
    {
      "cell_type": "markdown",
      "metadata": {
        "id": "MvE-heJNo3GG"
      },
      "source": [
        "### Preprocessing the Training set"
      ]
    },
    {
      "cell_type": "code",
      "source": [
        "train_datagen = ImageDataGenerator(\n",
        "        rescale=1./255,\n",
        "        shear_range=0.2,\n",
        "        zoom_range=0.2,\n",
        "        horizontal_flip=True)\n",
        "\n",
        "train_set = train_datagen.flow_from_directory(train_path,\n",
        "        target_size=(64, 64),\n",
        "        batch_size=32,\n",
        "        class_mode='binary')\n",
        "\n"
      ],
      "metadata": {
        "colab": {
          "base_uri": "https://localhost:8080/"
        },
        "id": "A7inIAC18RlT",
        "outputId": "db87ae0c-b0e6-4444-9c57-de0a92540223"
      },
      "execution_count": null,
      "outputs": [
        {
          "output_type": "stream",
          "name": "stdout",
          "text": [
            "Found 8000 images belonging to 2 classes.\n"
          ]
        }
      ]
    },
    {
      "cell_type": "markdown",
      "metadata": {
        "id": "mrCMmGw9pHys"
      },
      "source": [
        "### Preprocessing the Test set"
      ]
    },
    {
      "cell_type": "code",
      "source": [
        "test_datagen = ImageDataGenerator(rescale=1./255)\n",
        "test_set = test_datagen.flow_from_directory(\n",
        "        test_path,\n",
        "        target_size=(64, 64),\n",
        "        batch_size=32,\n",
        "        class_mode='binary')"
      ],
      "metadata": {
        "colab": {
          "base_uri": "https://localhost:8080/"
        },
        "id": "EMHBya_uE6NQ",
        "outputId": "c11f0163-3ac3-4b8c-c1b9-c7eccd422308"
      },
      "execution_count": null,
      "outputs": [
        {
          "output_type": "stream",
          "name": "stdout",
          "text": [
            "Found 2000 images belonging to 2 classes.\n"
          ]
        }
      ]
    },
    {
      "cell_type": "markdown",
      "metadata": {
        "id": "af8O4l90gk7B"
      },
      "source": [
        "## Part 2 - Building the CNN"
      ]
    },
    {
      "cell_type": "markdown",
      "metadata": {
        "id": "ces1gXY2lmoX"
      },
      "source": [
        "### Initialising the CNN"
      ]
    },
    {
      "cell_type": "code",
      "source": [
        "cnn = tf.keras.models.Sequential()"
      ],
      "metadata": {
        "id": "-UZlEMt0FCsQ"
      },
      "execution_count": null,
      "outputs": []
    },
    {
      "cell_type": "markdown",
      "metadata": {
        "id": "u5YJj_XMl5LF"
      },
      "source": [
        "### Step 1 - Convolution"
      ]
    },
    {
      "cell_type": "code",
      "source": [
        "cnn.add(tf.keras.layers.Conv2D(filters=32 , kernel_size=3 , activation ='relu',input_shape=[64,64,3]))"
      ],
      "metadata": {
        "id": "fbag-ZSqFONW"
      },
      "execution_count": null,
      "outputs": []
    },
    {
      "cell_type": "markdown",
      "metadata": {
        "id": "tf87FpvxmNOJ"
      },
      "source": [
        "### Step 2 - Pooling"
      ]
    },
    {
      "cell_type": "code",
      "source": [
        "cnn.add(tf.keras.layers.MaxPool2D(pool_size = 2 ,strides =2))"
      ],
      "metadata": {
        "id": "EFun_E2HJGFy"
      },
      "execution_count": null,
      "outputs": []
    },
    {
      "cell_type": "markdown",
      "metadata": {
        "id": "xaTOgD8rm4mU"
      },
      "source": [
        "### Adding a second convolutional layer"
      ]
    },
    {
      "cell_type": "code",
      "source": [
        "cnn.add(tf.keras.layers.Conv2D(filters = 32 , kernel_size = 3 ,activation = \"relu\"))\n",
        "cnn.add(tf.keras.layers.MaxPool2D(pool_size = 2 , strides = 2))"
      ],
      "metadata": {
        "id": "vI_cI7dwIdTY"
      },
      "execution_count": null,
      "outputs": []
    },
    {
      "cell_type": "markdown",
      "metadata": {
        "id": "tmiEuvTunKfk"
      },
      "source": [
        "### Step 3 - Flattening"
      ]
    },
    {
      "cell_type": "code",
      "source": [
        "cnn.add(tf.keras.layers.Flatten())"
      ],
      "metadata": {
        "id": "pnCEttPiKF6r"
      },
      "execution_count": null,
      "outputs": []
    },
    {
      "cell_type": "markdown",
      "metadata": {
        "id": "dAoSECOm203v"
      },
      "source": [
        "### Step 4 - Full Connection"
      ]
    },
    {
      "cell_type": "code",
      "source": [
        "cnn.add(tf.keras.layers.Dense(units = 128 , activation =\"relu\"))"
      ],
      "metadata": {
        "id": "6d2HTQxOKP_q"
      },
      "execution_count": null,
      "outputs": []
    },
    {
      "cell_type": "markdown",
      "metadata": {
        "id": "yTldFvbX28Na"
      },
      "source": [
        "### Step 5 - Output Layer"
      ]
    },
    {
      "cell_type": "code",
      "source": [
        "cnn.add(tf.keras.layers.Dense(units = 1 , activation =\"sigmoid\"))"
      ],
      "metadata": {
        "id": "AxZgcC9eKR7O"
      },
      "execution_count": null,
      "outputs": []
    },
    {
      "cell_type": "markdown",
      "metadata": {
        "id": "D6XkI90snSDl"
      },
      "source": [
        "## Part 3 - Training the CNN"
      ]
    },
    {
      "cell_type": "markdown",
      "metadata": {
        "id": "vfrFQACEnc6i"
      },
      "source": [
        "### Compiling the CNN"
      ]
    },
    {
      "cell_type": "code",
      "source": [
        "cnn.compile(optimizer = \"adam\" , loss = \"binary_crossentropy\" , metrics = [\"accuracy\"])"
      ],
      "metadata": {
        "id": "DTHw-P9IMGQ0"
      },
      "execution_count": null,
      "outputs": []
    },
    {
      "cell_type": "markdown",
      "metadata": {
        "id": "ehS-v3MIpX2h"
      },
      "source": [
        "### Training the CNN on the Training set and evaluating it on the Test set"
      ]
    },
    {
      "cell_type": "code",
      "source": [
        "cnn.fit(train_set , validation_data = test_set , epochs =25)"
      ],
      "metadata": {
        "colab": {
          "base_uri": "https://localhost:8080/"
        },
        "id": "awqWBkF6MZwO",
        "outputId": "6c69711b-4e21-4dd0-96fe-f78aa1f62295"
      },
      "execution_count": null,
      "outputs": [
        {
          "output_type": "stream",
          "name": "stdout",
          "text": [
            "Epoch 1/25\n",
            "250/250 [==============================] - 2109s 8s/step - loss: 0.6560 - accuracy: 0.6039 - val_loss: 0.6297 - val_accuracy: 0.6485\n",
            "Epoch 2/25\n",
            "250/250 [==============================] - 108s 431ms/step - loss: 0.5929 - accuracy: 0.6851 - val_loss: 0.5634 - val_accuracy: 0.7220\n",
            "Epoch 3/25\n",
            "250/250 [==============================] - 113s 452ms/step - loss: 0.5472 - accuracy: 0.7244 - val_loss: 0.5122 - val_accuracy: 0.7575\n",
            "Epoch 4/25\n",
            "250/250 [==============================] - 108s 433ms/step - loss: 0.5132 - accuracy: 0.7471 - val_loss: 0.5218 - val_accuracy: 0.7485\n",
            "Epoch 5/25\n",
            "250/250 [==============================] - 107s 427ms/step - loss: 0.4882 - accuracy: 0.7664 - val_loss: 0.4832 - val_accuracy: 0.7730\n",
            "Epoch 6/25\n",
            "250/250 [==============================] - 107s 429ms/step - loss: 0.4748 - accuracy: 0.7716 - val_loss: 0.5142 - val_accuracy: 0.7635\n",
            "Epoch 7/25\n",
            "250/250 [==============================] - 114s 455ms/step - loss: 0.4454 - accuracy: 0.7894 - val_loss: 0.4717 - val_accuracy: 0.7880\n",
            "Epoch 8/25\n",
            "250/250 [==============================] - 109s 434ms/step - loss: 0.4298 - accuracy: 0.7990 - val_loss: 0.4598 - val_accuracy: 0.7930\n",
            "Epoch 9/25\n",
            "250/250 [==============================] - 114s 454ms/step - loss: 0.4225 - accuracy: 0.8046 - val_loss: 0.4646 - val_accuracy: 0.7850\n",
            "Epoch 10/25\n",
            "250/250 [==============================] - 115s 459ms/step - loss: 0.4080 - accuracy: 0.8117 - val_loss: 0.4424 - val_accuracy: 0.7930\n",
            "Epoch 11/25\n",
            "250/250 [==============================] - 108s 433ms/step - loss: 0.3918 - accuracy: 0.8209 - val_loss: 0.4356 - val_accuracy: 0.8050\n",
            "Epoch 12/25\n",
            "250/250 [==============================] - 109s 437ms/step - loss: 0.3816 - accuracy: 0.8290 - val_loss: 0.4469 - val_accuracy: 0.8015\n",
            "Epoch 13/25\n",
            "250/250 [==============================] - 109s 436ms/step - loss: 0.3616 - accuracy: 0.8413 - val_loss: 0.4422 - val_accuracy: 0.8145\n",
            "Epoch 14/25\n",
            "250/250 [==============================] - 114s 455ms/step - loss: 0.3432 - accuracy: 0.8455 - val_loss: 0.5157 - val_accuracy: 0.7730\n",
            "Epoch 15/25\n",
            "250/250 [==============================] - 114s 456ms/step - loss: 0.3323 - accuracy: 0.8583 - val_loss: 0.4835 - val_accuracy: 0.7835\n",
            "Epoch 16/25\n",
            "250/250 [==============================] - 114s 455ms/step - loss: 0.3247 - accuracy: 0.8555 - val_loss: 0.4431 - val_accuracy: 0.8160\n",
            "Epoch 17/25\n",
            "250/250 [==============================] - 113s 453ms/step - loss: 0.2985 - accuracy: 0.8719 - val_loss: 0.4697 - val_accuracy: 0.7935\n",
            "Epoch 18/25\n",
            "250/250 [==============================] - 118s 473ms/step - loss: 0.2972 - accuracy: 0.8715 - val_loss: 0.4989 - val_accuracy: 0.7915\n",
            "Epoch 19/25\n",
            "250/250 [==============================] - 114s 458ms/step - loss: 0.2746 - accuracy: 0.8820 - val_loss: 0.5806 - val_accuracy: 0.7535\n",
            "Epoch 20/25\n",
            "250/250 [==============================] - 114s 457ms/step - loss: 0.2595 - accuracy: 0.8896 - val_loss: 0.5084 - val_accuracy: 0.7975\n",
            "Epoch 21/25\n",
            "250/250 [==============================] - 117s 468ms/step - loss: 0.2448 - accuracy: 0.8982 - val_loss: 0.4890 - val_accuracy: 0.8040\n",
            "Epoch 22/25\n",
            "250/250 [==============================] - 113s 453ms/step - loss: 0.2339 - accuracy: 0.9060 - val_loss: 0.4906 - val_accuracy: 0.8100\n",
            "Epoch 23/25\n",
            "250/250 [==============================] - 117s 468ms/step - loss: 0.2179 - accuracy: 0.9133 - val_loss: 0.5268 - val_accuracy: 0.8050\n",
            "Epoch 24/25\n",
            "250/250 [==============================] - 114s 457ms/step - loss: 0.2127 - accuracy: 0.9121 - val_loss: 0.5294 - val_accuracy: 0.8000\n",
            "Epoch 25/25\n",
            "250/250 [==============================] - 114s 454ms/step - loss: 0.2031 - accuracy: 0.9206 - val_loss: 0.5522 - val_accuracy: 0.7810\n"
          ]
        },
        {
          "output_type": "execute_result",
          "data": {
            "text/plain": [
              "<keras.callbacks.History at 0x7f6ab6aa71c0>"
            ]
          },
          "metadata": {},
          "execution_count": 25
        }
      ]
    },
    {
      "cell_type": "markdown",
      "metadata": {
        "id": "U3PZasO0006Z"
      },
      "source": [
        "## Part 4 - Making a single prediction"
      ]
    },
    {
      "cell_type": "code",
      "source": [
        "import numpy as np\n",
        "from keras.preprocessing import image\n",
        "from keras.utils import load_img\n",
        "test_image = load_img(testing1 , target_size = (64,64))\n",
        "test_image = tf.keras.utils.img_to_array(test_image)\n",
        "test_image = np.expand_dims(test_image , axis =0)\n",
        "result = cnn.predict(test_image)\n",
        "train_set.class_indices\n",
        "if result[0][0] == 1:\n",
        "  prediction = \"dog\"\n",
        "else: \n",
        "  prediction =\"cat\"\n",
        "\n",
        "print(prediction)"
      ],
      "metadata": {
        "colab": {
          "base_uri": "https://localhost:8080/"
        },
        "id": "L0NNqoAZMq_K",
        "outputId": "daab4cd0-ccd6-440d-d3b1-e810a363ae2f"
      },
      "execution_count": null,
      "outputs": [
        {
          "output_type": "stream",
          "name": "stdout",
          "text": [
            "1/1 [==============================] - 0s 145ms/step\n",
            "dog\n"
          ]
        }
      ]
    },
    {
      "cell_type": "code",
      "source": [],
      "metadata": {
        "id": "ButmD5hHQO5z"
      },
      "execution_count": null,
      "outputs": []
    }
  ]
}